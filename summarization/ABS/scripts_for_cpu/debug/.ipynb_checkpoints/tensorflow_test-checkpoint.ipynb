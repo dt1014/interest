{
 "cells": [
  {
   "cell_type": "code",
   "execution_count": 1,
   "metadata": {
    "collapsed": false
   },
   "outputs": [],
   "source": [
    "import numpy as np\n",
    "import tensorflow as tf\n",
    "\n",
    "batch_size = 100\n",
    "V = 10000\n",
    "D = 200\n",
    "C = 3\n",
    "\n",
    "y_c = tf.placeholder(tf.int32, shape=(batch_size, C))\n",
    "E = tf.Variable(tf.random_uniform((V, D), -1.0, 1.0)) # 乱数の設定を論文から参照する\n",
    "tilde_y_c = tf.nn.embedding_lookup(E, y_c) "
   ]
  },
  {
   "cell_type": "code",
   "execution_count": 2,
   "metadata": {
    "collapsed": false
   },
   "outputs": [
    {
     "name": "stdout",
     "output_type": "stream",
     "text": [
      "(100, 3, 200)\n"
     ]
    }
   ],
   "source": [
    "with tf.Session() as sess:\n",
    "    sess.run(tf.initialize_all_variables())\n",
    "    #feed_dict={y_c: np.arange(batch_size)}\n",
    "    feed_dict={y_c: np.arange(batch_size*C).reshape(batch_size, C)}\n",
    "    print(sess.run(tilde_y_c, feed_dict=feed_dict).shape)"
   ]
  },
  {
   "cell_type": "code",
   "execution_count": 3,
   "metadata": {
    "collapsed": false,
    "scrolled": true
   },
   "outputs": [],
   "source": [
    "length = 100\n",
    "x = tf.placeholder(tf.int32, shape=(batch_size, None))\n",
    "y = x * 3\n",
    "sess = tf.Session()\n",
    "feed_dict = {x: np.arange(batch_size*length).reshape(batch_size, length)}\n",
    "output = sess.run(y, feed_dict=feed_dict)\n"
   ]
  },
  {
   "cell_type": "code",
   "execution_count": 4,
   "metadata": {
    "collapsed": false
   },
   "outputs": [
    {
     "name": "stdout",
     "output_type": "stream",
     "text": [
      "(100, 60, 200)\n"
     ]
    }
   ],
   "source": [
    "import numpy as np\n",
    "import tensorflow as tf\n",
    "\n",
    "batch_size = 100\n",
    "V = 10000\n",
    "D = 200\n",
    "\n",
    "length = 60\n",
    "x = tf.placeholder(tf.int32, shape=(batch_size, None))\n",
    "x = tf.Print(x, [x])\n",
    "F = tf.Variable(tf.random_uniform([V, D], -1.0, 1.0)) # 乱数の設定を参照\n",
    "tilde_x = tf.nn.embedding_lookup(F, x)\n",
    "sess = tf.Session()\n",
    "sess.run(tf.initialize_all_variables())\n",
    "feed_dict = {x: np.arange(batch_size*length).reshape(batch_size, length)}\n",
    "#feed_dict = {x: np.arange(batch_size)}\n",
    "output = sess.run(tilde_x, feed_dict=feed_dict)\n",
    "print(output.shape)"
   ]
  },
  {
   "cell_type": "code",
   "execution_count": 65,
   "metadata": {
    "collapsed": false
   },
   "outputs": [
    {
     "name": "stdout",
     "output_type": "stream",
     "text": [
      "tilde_x:  TensorShape([Dimension(100), Dimension(None), Dimension(200)])\n",
      "p: TensorShape([Dimension(100), Dimension(None)])\n",
      "slice:  Tensor(\"Reshape_11:0\", shape=TensorShape([Dimension(None), Dimension(200)]), dtype=float32)\n",
      "enc:  TensorShape([Dimension(100), Dimension(200)])\n",
      "(100, 200)\n"
     ]
    }
   ],
   "source": [
    "import numpy as np\n",
    "import tensorflow as tf\n",
    "\n",
    "batch_size = 100\n",
    "V = 10000\n",
    "D = 200\n",
    "\n",
    "length = 6 # ここでは、length大きくしすぎると単語数がVより大きくなるので注意\n",
    "x = tf.placeholder(tf.int32, shape=(batch_size, None))\n",
    "F = tf.Variable(tf.random_uniform([V, D], -1.0, 1.0)) # 乱数の設定を参照\n",
    "tilde_x = tf.cast(tf.nn.embedding_lookup(F, x), tf.float32)\n",
    "p = tf.placeholder(tf.float32, shape=[batch_size, None])\n",
    "print('tilde_x: ', tilde_x.get_shape())\n",
    "print('p:', p.get_shape())\n",
    "print('slice: ', tf.reshape(tf.slice(tilde_x, [0, 0, 0], [1, -1, -1]), [-1, D]))\n",
    "enc = tf.matmul(p, tf.reshape(tf.slice(tilde_x, [0, 0, 0], [1, -1, -1]), [-1, D]), )\n",
    "print('enc: ', enc.get_shape())\n",
    "\n",
    "sess = tf.Session()\n",
    "sess.run(tf.initialize_all_variables())\n",
    "feed_dict = {x: np.arange(batch_size*length).reshape(batch_size, length), p: (np.ones((batch_size, length))/length).astype(np.float32)}\n",
    "output = sess.run(enc, feed_dict=feed_dict)\n",
    "print(output.shape)"
   ]
  },
  {
   "cell_type": "code",
   "execution_count": 27,
   "metadata": {
    "collapsed": false
   },
   "outputs": [
    {
     "name": "stdout",
     "output_type": "stream",
     "text": [
      "(100, 60)\n",
      "(100, 60)\n"
     ]
    }
   ],
   "source": [
    "print((np.ones((batch_size, length))/length).shape)\n",
    "print(np.arange(batch_size*length).reshape(batch_size, length).shape)"
   ]
  },
  {
   "cell_type": "code",
   "execution_count": 48,
   "metadata": {
    "collapsed": false
   },
   "outputs": [
    {
     "ename": "ValueError",
     "evalue": "shapes (3,4,5) and (3,4,1) not aligned: 5 (dim 2) != 4 (dim 1)",
     "output_type": "error",
     "traceback": [
      "\u001b[0;31m---------------------------------------------------------------------------\u001b[0m",
      "\u001b[0;31mValueError\u001b[0m                                Traceback (most recent call last)",
      "\u001b[0;32m<ipython-input-48-e4d55bf8572f>\u001b[0m in \u001b[0;36m<module>\u001b[0;34m()\u001b[0m\n\u001b[1;32m      1\u001b[0m \u001b[0ma\u001b[0m \u001b[0;34m=\u001b[0m \u001b[0mnp\u001b[0m\u001b[0;34m.\u001b[0m\u001b[0mones\u001b[0m\u001b[0;34m(\u001b[0m\u001b[0;34m(\u001b[0m\u001b[0;36m3\u001b[0m\u001b[0;34m,\u001b[0m \u001b[0;36m4\u001b[0m\u001b[0;34m,\u001b[0m \u001b[0;36m5\u001b[0m\u001b[0;34m)\u001b[0m\u001b[0;34m)\u001b[0m\u001b[0;34m\u001b[0m\u001b[0m\n\u001b[1;32m      2\u001b[0m \u001b[0mb\u001b[0m \u001b[0;34m=\u001b[0m \u001b[0mnp\u001b[0m\u001b[0;34m.\u001b[0m\u001b[0marange\u001b[0m\u001b[0;34m(\u001b[0m\u001b[0;36m3\u001b[0m\u001b[0;34m*\u001b[0m\u001b[0;36m4\u001b[0m\u001b[0;34m)\u001b[0m\u001b[0;34m.\u001b[0m\u001b[0mreshape\u001b[0m\u001b[0;34m(\u001b[0m\u001b[0;36m3\u001b[0m\u001b[0;34m,\u001b[0m \u001b[0;36m4\u001b[0m\u001b[0;34m)\u001b[0m\u001b[0;34m[\u001b[0m\u001b[0;34m:\u001b[0m\u001b[0;34m,\u001b[0m \u001b[0;34m:\u001b[0m\u001b[0;34m,\u001b[0m \u001b[0mnp\u001b[0m\u001b[0;34m.\u001b[0m\u001b[0mnewaxis\u001b[0m\u001b[0;34m]\u001b[0m\u001b[0;34m\u001b[0m\u001b[0m\n\u001b[0;32m----> 3\u001b[0;31m \u001b[0mnp\u001b[0m\u001b[0;34m.\u001b[0m\u001b[0mdot\u001b[0m\u001b[0;34m(\u001b[0m\u001b[0ma\u001b[0m\u001b[0;34m,\u001b[0m \u001b[0mb\u001b[0m\u001b[0;34m)\u001b[0m\u001b[0;34m\u001b[0m\u001b[0m\n\u001b[0m",
      "\u001b[0;31mValueError\u001b[0m: shapes (3,4,5) and (3,4,1) not aligned: 5 (dim 2) != 4 (dim 1)"
     ]
    }
   ],
   "source": [
    "a = np.ones((3, 4, 5))\n",
    "b = np.arange(3*4).reshape(3, 4)[:, :, np.newaxis]\n",
    "np.dot(a, b)"
   ]
  },
  {
   "cell_type": "code",
   "execution_count": null,
   "metadata": {
    "collapsed": true
   },
   "outputs": [],
   "source": []
  }
 ],
 "metadata": {
  "kernelspec": {
   "display_name": "Python 3",
   "language": "python",
   "name": "python3"
  }
 },
 "nbformat": 4,
 "nbformat_minor": 2
}
